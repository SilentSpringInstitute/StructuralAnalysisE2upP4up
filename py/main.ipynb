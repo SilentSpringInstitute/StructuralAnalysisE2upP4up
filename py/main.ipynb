{
 "cells": [
  {
   "cell_type": "markdown",
   "metadata": {},
   "source": [
    "# Notebook to create E2up or P4up QSAR models or apply them\n",
    "This notebook follow every steps used to create the QSARs E2up and P4up models and apply them on the Mammary carcinogens list.<br>\n",
    "It also included data analysis of each set of chemicals (Clustring, summary, ...) "
   ]
  },
  {
   "cell_type": "code",
   "execution_count": null,
   "metadata": {},
   "outputs": [],
   "source": [
    "# load modulde for the analysis\n",
    "from os import path\n",
    "#import MCcrossref_data\n",
    "import steroidogenesis_data\n",
    "import merge_MCcrossWithStereo\n",
    "import pathFolder\n",
    "import buildQSAR\n",
    "import applyQSAR\n",
    "#import pubmedSearch"
   ]
  },
  {
   "cell_type": "markdown",
   "metadata": {},
   "source": [
    "## 1. Initialisation of the project\n",
    "### 1.1. Define folder paths and files used as inputs of the analysis  "
   ]
  },
  {
   "cell_type": "code",
   "execution_count": null,
   "metadata": {},
   "outputs": [],
   "source": [
    "# Define folders #\n",
    "##################\n",
    "PR_ROOT = path.abspath(\"../../\") + \"/\"\n",
    "PR_RESULTS = pathFolder.createFolder(PR_ROOT + \"results/\")\n",
    "PR_DATA = PR_ROOT + \"data/\"\n",
    "\n",
    "# Define dataset #\n",
    "##################\n",
    "# cross ref excel including all dataset to process\n",
    "p_listChem = PR_DATA + \"cross_lists_for_analysis_090921.xlsx\" # excel created with ehp sup and Jenny list \n",
    "# exposure by chemicals\n",
    "p_exposure = PR_DATA + \"BCRelExposureSources_P65_051221.csv\"\n",
    "# list of hormone in SMILES that can be considered for the \n",
    "p_hormones = PR_DATA + \"hormones.csv\"\n",
    "# 270 chemicals as input"
   ]
  },
  {
   "cell_type": "markdown",
   "metadata": {},
   "source": [
    "## 1.2. Calibrate dataset variables"
   ]
  },
  {
   "cell_type": "code",
   "execution_count": null,
   "metadata": {},
   "outputs": [],
   "source": [
    "# Dataset preparation value #\n",
    "#############################\n",
    "COR_VAL = 0.9 # Person corelation limit value for descriptor selection\n",
    "MAX_QUANTILE = 0 # % of the set of chemicals that are exactly the same values (0 to inactivate)\n",
    "\n",
    "# Define datasets #\n",
    "###################\n",
    "# cross ref excel including all dataset to process\n",
    "p_listChem = PR_DATA + \"cross_lists_for_analysis_090921.xlsx\" # excel created with ehp sup and Jenny list \n",
    "# exposure by chemicals\n",
    "p_exposure = PR_DATA + \"BCRelExposureSources_P65_051221.csv\"\n",
    "# list of hormone in SMILES that can be considered for the \n",
    "p_hormones = PR_DATA + \"hormones.csv\"\n",
    "# 270 chemicals as input"
   ]
  },
  {
   "cell_type": "markdown",
   "metadata": {},
   "source": [
    "## 2. Start analysis and loading data\n",
    "### 2.1. Load Steroidogenesis data from Karmaus2016\n",
    "Will create folder with drawn response curves"
   ]
  },
  {
   "cell_type": "code",
   "execution_count": null,
   "metadata": {},
   "outputs": [],
   "source": [
    "c_Stereo = steroidogenesis_data.Steroidogenesis_data(PR_DATA, PR_RESULTS)\n",
    "c_Stereo.main()"
   ]
  },
  {
   "cell_type": "markdown",
   "metadata": {},
   "source": [
    "### 2.2. Load and analysis chemicals dataset\n",
    "It will process chemicals lists compute descriptors"
   ]
  },
  {
   "cell_type": "code",
   "execution_count": null,
   "metadata": {},
   "outputs": [],
   "source": [
    "c_MCcrossref = MCcrossref_data.MCcrossref(p_listChem, p_exposure, p_hormones, COR_VAL, MAX_QUANTILE, PR_ROOT + \"comptox/\", PR_ROOT)\n",
    "c_MCcrossref.main()"
   ]
  },
  {
   "cell_type": "markdown",
   "metadata": {},
   "source": [
    "### 2.3. Mix information from chemicals lists with steroidogenesis pathways\n",
    "Will integrate analysis from chemicals lists and from assay results."
   ]
  },
  {
   "cell_type": "code",
   "execution_count": null,
   "metadata": {},
   "outputs": [],
   "source": [
    "pr_out_mix = pathFolder.createFolder(PR_RESULTS + \"crossRef_Stereo/\") # define output folder\n",
    "c_MCcrossref_stereo = merge_MCcrossWithStereo.merge_MCcrossWithStereo(c_MCcrossref, c_Stereo, pr_out_mix)\n",
    "c_MCcrossref_stereo.main()"
   ]
  },
  {
   "cell_type": "markdown",
   "metadata": {},
   "source": [
    "## 3. Develop QSAR models\n",
    "### 3.1. E2up - with no undersampling"
   ]
  },
  {
   "cell_type": "code",
   "execution_count": null,
   "metadata": {},
   "outputs": [],
   "source": [
    "name_QSAR = \"QSAR_E2_H295R_nosampling_nosingledosecheck_noborderline\"\n",
    "c_QSAR_E2up = buildQSAR.buildQSAR(name_QSAR, \"E2up\", \"H295R\", c_MCcrossref, PR_RESULTS, COR_VAL, MAX_QUANTILE)\n",
    "c_QSAR_E2up.buildDataset(c_Stereo, borderline=0)\n",
    "c_QSAR_E2up.buildDescSet([\"rdkit\", \"OPERA\", \"toxprint\"])\n",
    "c_QSAR_E2up.prepDesc()\n",
    "c_QSAR_E2up.computeSimMatrix()# similarity matrix for the AD\n",
    "c_QSAR_E2up.runQSARs()# no sampling add\n",
    "\n",
    "# best model selected manually\n",
    "n_E2best_run = 2"
   ]
  },
  {
   "cell_type": "markdown",
   "metadata": {},
   "source": [
    "### 3.2. E2up - undersampling with variable active rate"
   ]
  },
  {
   "cell_type": "code",
   "execution_count": null,
   "metadata": {},
   "outputs": [],
   "source": [
    "name_QSAR = \"QSAR_E2_H295R_variable-sampling_singledosecheck_noborderline\"\n",
    "c_QSAR_E2up = buildQSAR.buildQSAR(name_QSAR, \"E2up\", \"H295R\", c_MCcrossref, PR_RESULTS, COR_VAL, MAX_QUANTILE)\n",
    "c_QSAR_E2up.buildDataset(c_Stereo, borderline=0)\n",
    "c_QSAR_E2up.buildDescSet([\"rdkit\", \"OPERA\", \"toxprint\"])\n",
    "c_QSAR_E2up.prepDesc()\n",
    "c_QSAR_E2up.computeSimMatrix()# similarity matrix for the AD\n",
    "c_QSAR_E2up.runQSARs([0.10, 0.9])"
   ]
  },
  {
   "cell_type": "markdown",
   "metadata": {},
   "source": [
    "### 3.3. P4up - no undersampling"
   ]
  },
  {
   "cell_type": "code",
   "execution_count": null,
   "metadata": {},
   "outputs": [],
   "source": [
    "name_QSAR = \"QSAR_P4_H295R_nosampling_nosingledosecheck_noborderline\"\n",
    "c_QSAR_P4up = buildQSAR.buildQSAR(name_QSAR, \"P4up\", \"H295R\", c_MCcrossref, PR_RESULTS, COR_VAL, MAX_QUANTILE)\n",
    "c_QSAR_P4up.buildDataset(c_Stereo, borderline=0)\n",
    "c_QSAR_P4up.buildDescSet([\"rdkit\", \"OPERA\", \"toxprint\"])\n",
    "c_QSAR_P4up.prepDesc()\n",
    "c_QSAR_P4up.computeSimMatrix()# similarity matrix for the AD\n",
    "c_QSAR_P4up.runQSARs()# no sampling add\n",
    "\n",
    "### best model selected manually\n",
    "n_P4best_run = 3"
   ]
  },
  {
   "cell_type": "markdown",
   "metadata": {},
   "source": [
    "### 3.4. P4up - undersampling with variable active rate"
   ]
  },
  {
   "cell_type": "code",
   "execution_count": null,
   "metadata": {},
   "outputs": [],
   "source": [
    "name_QSAR = \"QSAR_P4_H295R_variable-sampling_singledosecheck_noborderline\"\n",
    "c_QSAR_P4up = buildQSAR.buildQSAR(name_QSAR, \"P4up\", \"H295R\", c_MCcrossref, PR_RESULTS, COR_VAL, MAX_QUANTILE)\n",
    "c_QSAR_P4up.buildDataset(c_Stereo, borderline=0)\n",
    "c_QSAR_P4up.buildDescSet([\"rdkit\", \"OPERA\", \"toxprint\"])\n",
    "c_QSAR_P4up.prepDesc()\n",
    "c_QSAR_P4up.computeSimMatrix()# similarity matrix for the AD\n",
    "c_QSAR_P4up.runQSARs([0.10, 0.9])"
   ]
  },
  {
   "cell_type": "markdown",
   "metadata": {},
   "source": [
    "## 4. Apply QSAR models to MC list\n",
    "### 4.1. Apply QSAR E2up"
   ]
  },
  {
   "cell_type": "code",
   "execution_count": null,
   "metadata": {},
   "outputs": [],
   "source": [
    "pr_model_E2up = PR_RESULTS + \"QSAR_E2_H295R_nosampling_nosingledosecheck_noborderline/rdkit-OPERA-toxprint_0.9-0/classQSAR/\" + str(n_E2best_run) + \"/\"\n",
    "pr_E2MC_pred = pathFolder.createFolder(PR_RESULTS + \"predMC_E2/\")\n",
    "c_applyQSARE2 = applyQSAR.applyQSAR(c_MCcrossref, pr_model_E2up, pr_E2MC_pred)\n",
    "c_applyQSARE2.loadDataFromCrossRef(\"MC\", [\"E2up\", \"H295R\"], 1)\n",
    "c_applyQSARE2.buildDescSet([\"rdkit\", \"OPERA\", \"toxprint\"])\n",
    "c_applyQSARE2.applyQSARModels()\n",
    "c_applyQSARE2.computeAD()\n",
    "c_applyQSARE2.applyToxPrintSignifcant(PR_RESULTS)\n",
    "c_applyQSARE2.mergePredToxPrintQSAR(AD_cutoff = 0.75, nb_significant_toxPrint = 3, QSAR_prob= 0.5)\n",
    "c_applyQSARE2.extractStructure()"
   ]
  },
  {
   "cell_type": "markdown",
   "metadata": {},
   "source": [
    "### 4.2. Apply QSAR P4up"
   ]
  },
  {
   "cell_type": "code",
   "execution_count": null,
   "metadata": {},
   "outputs": [],
   "source": [
    "pr_model_P4up = PR_RESULTS + \"QSAR_E2_H295R_nosampling_nosingledosecheck_noborderline/rdkit-OPERA-toxprint_0.9-0/classQSAR/\" + str(n_P4best_run) + \"/\"\n",
    "pr_P4MC_pred = pathFolder.createFolder(PR_RESULTS + \"predMC_P4/\")\n",
    "c_applyQSARP4 = applyQSAR.applyQSAR(c_MCcrossref, pr_model_P4up, pr_P4MC_pred)\n",
    "c_applyQSARP4.loadDataFromCrossRef(\"MC\", [\"P4up\", \"H295R\"], 1)\n",
    "c_applyQSARP4.buildDescSet([\"rdkit\", \"OPERA\", \"toxprint\"])\n",
    "c_applyQSARP4.applyQSARModels()\n",
    "c_applyQSARP4.computeAD()\n",
    "c_applyQSARP4.applyToxPrintSignifcant(PR_RESULTS)\n",
    "c_applyQSARP4.mergePredToxPrintQSAR(AD_cutoff = 0.75, nb_significant_toxPrint = 3, QSAR_prob= 0.5)\n",
    "c_applyQSARP4.extractStructure()"
   ]
  },
  {
   "cell_type": "markdown",
   "metadata": {},
   "source": [
    "## 5. Litterature search to find evidences of steroidogenesis for predicted chemicals E2up or P4up\n",
    "### 5.1. For the all set of E2up, P4up and MC"
   ]
  },
  {
   "cell_type": "code",
   "execution_count": 12,
   "metadata": {},
   "outputs": [],
   "source": [
    "email = \"borrel@silentspring.org\"\n",
    "l_term_to_screen_E2 = [\"\\\"estradiol\\\"\", \"\\\"steroidogenesis\\\"\", \"\\\"aromatase\\\"\", \"\\\"reproductive\\\"\", \"\\\"breast\\\"\", \"\\\"mammary\\\"\"]\n",
    "l_term_to_screen_P4 = [\"\\\"steroidogenesis\\\"\", \"\\\"progesterone\\\"\", \"\\\"aromatase\\\"\", \"\\\"reproductive\\\"\", \"\\\"breast\\\"\", \"\\\"mammary\\\"\"]\n",
    "\n",
    "# Litt search on main lists\n",
    "pr_litt = pathFolder.createFolder(PR_RESULTS + \"Litt_E2up/\")\n",
    "\n",
    "import MCcrossref_data\n",
    "import pubmedSearch\n"
   ]
  },
  {
   "cell_type": "code",
   "execution_count": null,
   "metadata": {},
   "outputs": [],
   "source": [
    "# for E2up chemicals\n",
    "pr_litt_E2 = pathFolder.createFolder(PR_RESULTS + \"Litt_E2up/\")\n",
    "c_crossref = MCcrossref_data.MCcrossref(p_listChem, p_exposure, p_hormones, COR_VAL, MAX_QUANTILE, PR_ROOT + \"comptox/\", PR_ROOT)\n",
    "c_crossref.prepSets([\"E2up\", \"P4up\"])\n",
    "p_xlx_E2up = c_crossref.writeSet(\"E2up\", pr_litt_E2)\n",
    "c_litt = pubmedSearch.pubmedSearch(p_xlx_E2up, l_term_to_screen_E2, pr_litt_E2, email)\n",
    "c_litt.do_search(write_abstract=False)"
   ]
  },
  {
   "cell_type": "code",
   "execution_count": null,
   "metadata": {},
   "outputs": [],
   "source": [
    "# for P4up chemicals\n",
    "pr_litt_P4 = pathFolder.createFolder(PR_RESULTS + \"Litt_P4up/\")\n",
    "c_crossref = MCcrossref_data.MCcrossref(p_listChem, p_exposure, p_hormones, COR_VAL, MAX_QUANTILE, PR_ROOT + \"comptox/\", PR_ROOT)\n",
    "c_crossref.prepSets([\"E2up\", \"P4up\"])\n",
    "p_xlx_P4up = c_crossref.writeSet(\"P4up\", pr_litt_P4)\n",
    "c_litt = pubmedSearch.pubmedSearch(p_xlx_P4up, l_term_to_screen_P4, pr_litt_P4, email)\n",
    "c_litt.do_search(write_abstract=False)"
   ]
  },
  {
   "cell_type": "code",
   "execution_count": null,
   "metadata": {},
   "outputs": [],
   "source": [
    "# for MC - E2\n",
    "pr_litt_MC_E2 = pathFolder.createFolder(PR_RESULTS + \"Litt_AllMC_E2/\")\n",
    "c_crossref = MCcrossref_data.MCcrossref(p_listChem, p_exposure, p_hormones, COR_VAL, MAX_QUANTILE, PR_ROOT + \"comptox/\", PR_ROOT)\n",
    "c_crossref.prepSets([\"MC\"])\n",
    "p_xlx_MC = c_crossref.writeSet(\"MC\", pr_litt_MC_E2)\n",
    "c_litt = pubmedSearch.pubmedSearch(p_xlx_MC, l_term_to_screen_E2, pr_litt_MC_E2, email)\n",
    "c_litt.do_search(write_abstract=False)\n"
   ]
  },
  {
   "cell_type": "code",
   "execution_count": null,
   "metadata": {},
   "outputs": [],
   "source": [
    "# for MC - P4\n",
    "pr_litt_MC_P4 = pathFolder.createFolder(PR_RESULTS + \"Litt_AllMC_P4/\")\n",
    "p_xlx_MC = c_crossref.writeSet(\"MC\", pr_litt_MC_P4)\n",
    "c_litt = pubmedSearch.pubmedSearch(p_xlx_MC, l_term_to_screen_P4, pr_litt_MC_P4, email)\n",
    "c_litt.do_search(write_abstract=False)"
   ]
  },
  {
   "cell_type": "markdown",
   "metadata": {},
   "source": [
    "### 5.2. MC predicted E2up"
   ]
  },
  {
   "cell_type": "code",
   "execution_count": 13,
   "metadata": {},
   "outputs": [
    {
     "ename": "ValueError",
     "evalue": "Worksheet named 'Sheet1' not found",
     "output_type": "error",
     "traceback": [
      "\u001b[0;31m---------------------------------------------------------------------------\u001b[0m",
      "\u001b[0;31mValueError\u001b[0m                                Traceback (most recent call last)",
      "\u001b[0;32m/tmp/ipykernel_17581/1657298715.py\u001b[0m in \u001b[0;36m<module>\u001b[0;34m\u001b[0m\n\u001b[1;32m      4\u001b[0m \u001b[0mpr_litt_E2\u001b[0m \u001b[0;34m=\u001b[0m \u001b[0mpathFolder\u001b[0m\u001b[0;34m.\u001b[0m\u001b[0mcreateFolder\u001b[0m\u001b[0;34m(\u001b[0m\u001b[0mPR_RESULTS\u001b[0m \u001b[0;34m+\u001b[0m \u001b[0;34m\"LittMC_E2/\"\u001b[0m\u001b[0;34m)\u001b[0m\u001b[0;34m\u001b[0m\u001b[0;34m\u001b[0m\u001b[0m\n\u001b[1;32m      5\u001b[0m \u001b[0mc_litt_E2\u001b[0m \u001b[0;34m=\u001b[0m \u001b[0mpubmedSearch\u001b[0m\u001b[0;34m.\u001b[0m\u001b[0mpubmedSearch\u001b[0m\u001b[0;34m(\u001b[0m\u001b[0mp_pred_E2up_xlx\u001b[0m\u001b[0;34m,\u001b[0m \u001b[0ml_term_to_screen_E2\u001b[0m\u001b[0;34m,\u001b[0m \u001b[0mpr_litt_E2\u001b[0m\u001b[0;34m,\u001b[0m \u001b[0memail\u001b[0m\u001b[0;34m)\u001b[0m\u001b[0;34m\u001b[0m\u001b[0;34m\u001b[0m\u001b[0m\n\u001b[0;32m----> 6\u001b[0;31m \u001b[0mc_litt_E2\u001b[0m\u001b[0;34m.\u001b[0m\u001b[0mdo_search\u001b[0m\u001b[0;34m(\u001b[0m\u001b[0ml_term_to_screen_E2\u001b[0m\u001b[0;34m)\u001b[0m\u001b[0;34m\u001b[0m\u001b[0;34m\u001b[0m\u001b[0m\n\u001b[0m",
      "\u001b[0;32m/mnt/c/Users/AlexandreBorrel/research/SSI/e2up_p4up/sources/py/pubmedSearch.py\u001b[0m in \u001b[0;36mdo_search\u001b[0;34m(self, review, date, write_abstract)\u001b[0m\n\u001b[1;32m    263\u001b[0m \u001b[0;34m\u001b[0m\u001b[0m\n\u001b[1;32m    264\u001b[0m                 \u001b[0mrow\u001b[0m \u001b[0;34m=\u001b[0m \u001b[0mrow\u001b[0m \u001b[0;34m+\u001b[0m \u001b[0;36m1\u001b[0m\u001b[0;34m\u001b[0m\u001b[0;34m\u001b[0m\u001b[0m\n\u001b[0;32m--> 265\u001b[0;31m                 \u001b[0mi\u001b[0m \u001b[0;34m=\u001b[0m \u001b[0mi\u001b[0m \u001b[0;34m+\u001b[0m \u001b[0;36m1\u001b[0m\u001b[0;34m\u001b[0m\u001b[0;34m\u001b[0m\u001b[0m\n\u001b[0m\u001b[1;32m    266\u001b[0m \u001b[0;34m\u001b[0m\u001b[0m\n\u001b[1;32m    267\u001b[0m             \u001b[0mworkbook\u001b[0m\u001b[0;34m.\u001b[0m\u001b[0mclose\u001b[0m\u001b[0;34m(\u001b[0m\u001b[0;34m)\u001b[0m\u001b[0;34m\u001b[0m\u001b[0;34m\u001b[0m\u001b[0m\n",
      "\u001b[0;32m/mnt/c/Users/AlexandreBorrel/research/SSI/e2up_p4up/sources/py/pubmedSearch.py\u001b[0m in \u001b[0;36mload_tab_chem\u001b[0;34m(self)\u001b[0m\n\u001b[1;32m     20\u001b[0m         \u001b[0;31m# need to check the sheet name\u001b[0m\u001b[0;34m\u001b[0m\u001b[0;34m\u001b[0m\u001b[0;34m\u001b[0m\u001b[0m\n\u001b[1;32m     21\u001b[0m         \u001b[0mxl\u001b[0m \u001b[0;34m=\u001b[0m \u001b[0mpd\u001b[0m\u001b[0;34m.\u001b[0m\u001b[0mExcelFile\u001b[0m\u001b[0;34m(\u001b[0m\u001b[0mself\u001b[0m\u001b[0;34m.\u001b[0m\u001b[0mp_tab_chem\u001b[0m\u001b[0;34m)\u001b[0m\u001b[0;34m\u001b[0m\u001b[0;34m\u001b[0m\u001b[0m\n\u001b[0;32m---> 22\u001b[0;31m         \u001b[0ml_sheet\u001b[0m \u001b[0;34m=\u001b[0m \u001b[0mxl\u001b[0m\u001b[0;34m.\u001b[0m\u001b[0msheet_names\u001b[0m\u001b[0;34m\u001b[0m\u001b[0;34m\u001b[0m\u001b[0m\n\u001b[0m\u001b[1;32m     23\u001b[0m \u001b[0;34m\u001b[0m\u001b[0m\n\u001b[1;32m     24\u001b[0m         \u001b[0mprint\u001b[0m\u001b[0;34m(\u001b[0m\u001b[0ml_sheet\u001b[0m\u001b[0;34m)\u001b[0m\u001b[0;34m\u001b[0m\u001b[0;34m\u001b[0m\u001b[0m\n",
      "\u001b[0;32m/mnt/c/Users/AlexandreBorrel/research/SSI/e2up_p4up/sources/py/toolbox.py\u001b[0m in \u001b[0;36mloadExcelSheet\u001b[0;34m(p_excel, name_sheet, k_head)\u001b[0m\n\u001b[1;32m     10\u001b[0m     \u001b[0md_out\u001b[0m \u001b[0;34m=\u001b[0m \u001b[0;34m{\u001b[0m\u001b[0;34m}\u001b[0m\u001b[0;34m\u001b[0m\u001b[0;34m\u001b[0m\u001b[0m\n\u001b[1;32m     11\u001b[0m     \u001b[0;31m# load MC list\u001b[0m\u001b[0;34m\u001b[0m\u001b[0;34m\u001b[0m\u001b[0;34m\u001b[0m\u001b[0m\n\u001b[0;32m---> 12\u001b[0;31m     \u001b[0mdata_frame\u001b[0m \u001b[0;34m=\u001b[0m \u001b[0mpandas\u001b[0m\u001b[0;34m.\u001b[0m\u001b[0mread_excel\u001b[0m\u001b[0;34m(\u001b[0m\u001b[0mp_excel\u001b[0m\u001b[0;34m,\u001b[0m \u001b[0mname_sheet\u001b[0m\u001b[0;34m,\u001b[0m \u001b[0mengine\u001b[0m\u001b[0;34m=\u001b[0m\u001b[0;34m'openpyxl'\u001b[0m\u001b[0;34m)\u001b[0m\u001b[0;34m\u001b[0m\u001b[0;34m\u001b[0m\u001b[0m\n\u001b[0m\u001b[1;32m     13\u001b[0m     \u001b[0mdata_size\u001b[0m \u001b[0;34m=\u001b[0m \u001b[0mdata_frame\u001b[0m\u001b[0;34m.\u001b[0m\u001b[0mshape\u001b[0m\u001b[0;34m\u001b[0m\u001b[0;34m\u001b[0m\u001b[0m\n\u001b[1;32m     14\u001b[0m     \u001b[0mnb_row\u001b[0m \u001b[0;34m=\u001b[0m \u001b[0mdata_size\u001b[0m\u001b[0;34m[\u001b[0m\u001b[0;36m0\u001b[0m\u001b[0;34m]\u001b[0m\u001b[0;34m\u001b[0m\u001b[0;34m\u001b[0m\u001b[0m\n",
      "\u001b[0;32m~/miniconda3/envs/QSAR_modeling/lib/python3.9/site-packages/pandas/util/_decorators.py\u001b[0m in \u001b[0;36mwrapper\u001b[0;34m(*args, **kwargs)\u001b[0m\n\u001b[1;32m    309\u001b[0m                     \u001b[0mstacklevel\u001b[0m\u001b[0;34m=\u001b[0m\u001b[0mstacklevel\u001b[0m\u001b[0;34m,\u001b[0m\u001b[0;34m\u001b[0m\u001b[0;34m\u001b[0m\u001b[0m\n\u001b[1;32m    310\u001b[0m                 )\n\u001b[0;32m--> 311\u001b[0;31m             \u001b[0;32mreturn\u001b[0m \u001b[0mfunc\u001b[0m\u001b[0;34m(\u001b[0m\u001b[0;34m*\u001b[0m\u001b[0margs\u001b[0m\u001b[0;34m,\u001b[0m \u001b[0;34m**\u001b[0m\u001b[0mkwargs\u001b[0m\u001b[0;34m)\u001b[0m\u001b[0;34m\u001b[0m\u001b[0;34m\u001b[0m\u001b[0m\n\u001b[0m\u001b[1;32m    312\u001b[0m \u001b[0;34m\u001b[0m\u001b[0m\n\u001b[1;32m    313\u001b[0m         \u001b[0;32mreturn\u001b[0m \u001b[0mwrapper\u001b[0m\u001b[0;34m\u001b[0m\u001b[0;34m\u001b[0m\u001b[0m\n",
      "\u001b[0;32m~/miniconda3/envs/QSAR_modeling/lib/python3.9/site-packages/pandas/io/excel/_base.py\u001b[0m in \u001b[0;36mread_excel\u001b[0;34m(io, sheet_name, header, names, index_col, usecols, squeeze, dtype, engine, converters, true_values, false_values, skiprows, nrows, na_values, keep_default_na, na_filter, verbose, parse_dates, date_parser, thousands, comment, skipfooter, convert_float, mangle_dupe_cols, storage_options)\u001b[0m\n\u001b[1;32m    370\u001b[0m \u001b[0;34m\u001b[0m\u001b[0m\n\u001b[1;32m    371\u001b[0m     \u001b[0;32mtry\u001b[0m\u001b[0;34m:\u001b[0m\u001b[0;34m\u001b[0m\u001b[0;34m\u001b[0m\u001b[0m\n\u001b[0;32m--> 372\u001b[0;31m         data = io.parse(\n\u001b[0m\u001b[1;32m    373\u001b[0m             \u001b[0msheet_name\u001b[0m\u001b[0;34m=\u001b[0m\u001b[0msheet_name\u001b[0m\u001b[0;34m,\u001b[0m\u001b[0;34m\u001b[0m\u001b[0;34m\u001b[0m\u001b[0m\n\u001b[1;32m    374\u001b[0m             \u001b[0mheader\u001b[0m\u001b[0;34m=\u001b[0m\u001b[0mheader\u001b[0m\u001b[0;34m,\u001b[0m\u001b[0;34m\u001b[0m\u001b[0;34m\u001b[0m\u001b[0m\n",
      "\u001b[0;32m~/miniconda3/envs/QSAR_modeling/lib/python3.9/site-packages/pandas/io/excel/_base.py\u001b[0m in \u001b[0;36mparse\u001b[0;34m(self, sheet_name, header, names, index_col, usecols, squeeze, converters, true_values, false_values, skiprows, nrows, na_values, parse_dates, date_parser, thousands, comment, skipfooter, convert_float, mangle_dupe_cols, **kwds)\u001b[0m\n\u001b[1;32m   1270\u001b[0m             \u001b[0mDataFrame\u001b[0m \u001b[0;32mfrom\u001b[0m \u001b[0mthe\u001b[0m \u001b[0mpassed\u001b[0m \u001b[0;32min\u001b[0m \u001b[0mExcel\u001b[0m \u001b[0mfile\u001b[0m\u001b[0;34m.\u001b[0m\u001b[0;34m\u001b[0m\u001b[0;34m\u001b[0m\u001b[0m\n\u001b[1;32m   1271\u001b[0m         \"\"\"\n\u001b[0;32m-> 1272\u001b[0;31m         return self._reader.parse(\n\u001b[0m\u001b[1;32m   1273\u001b[0m             \u001b[0msheet_name\u001b[0m\u001b[0;34m=\u001b[0m\u001b[0msheet_name\u001b[0m\u001b[0;34m,\u001b[0m\u001b[0;34m\u001b[0m\u001b[0;34m\u001b[0m\u001b[0m\n\u001b[1;32m   1274\u001b[0m             \u001b[0mheader\u001b[0m\u001b[0;34m=\u001b[0m\u001b[0mheader\u001b[0m\u001b[0;34m,\u001b[0m\u001b[0;34m\u001b[0m\u001b[0;34m\u001b[0m\u001b[0m\n",
      "\u001b[0;32m~/miniconda3/envs/QSAR_modeling/lib/python3.9/site-packages/pandas/io/excel/_base.py\u001b[0m in \u001b[0;36mparse\u001b[0;34m(self, sheet_name, header, names, index_col, usecols, squeeze, dtype, true_values, false_values, skiprows, nrows, na_values, verbose, parse_dates, date_parser, thousands, comment, skipfooter, convert_float, mangle_dupe_cols, **kwds)\u001b[0m\n\u001b[1;32m    533\u001b[0m \u001b[0;34m\u001b[0m\u001b[0m\n\u001b[1;32m    534\u001b[0m             \u001b[0;32mif\u001b[0m \u001b[0misinstance\u001b[0m\u001b[0;34m(\u001b[0m\u001b[0masheetname\u001b[0m\u001b[0;34m,\u001b[0m \u001b[0mstr\u001b[0m\u001b[0;34m)\u001b[0m\u001b[0;34m:\u001b[0m\u001b[0;34m\u001b[0m\u001b[0;34m\u001b[0m\u001b[0m\n\u001b[0;32m--> 535\u001b[0;31m                 \u001b[0msheet\u001b[0m \u001b[0;34m=\u001b[0m \u001b[0mself\u001b[0m\u001b[0;34m.\u001b[0m\u001b[0mget_sheet_by_name\u001b[0m\u001b[0;34m(\u001b[0m\u001b[0masheetname\u001b[0m\u001b[0;34m)\u001b[0m\u001b[0;34m\u001b[0m\u001b[0;34m\u001b[0m\u001b[0m\n\u001b[0m\u001b[1;32m    536\u001b[0m             \u001b[0;32melse\u001b[0m\u001b[0;34m:\u001b[0m  \u001b[0;31m# assume an integer if not a string\u001b[0m\u001b[0;34m\u001b[0m\u001b[0;34m\u001b[0m\u001b[0m\n\u001b[1;32m    537\u001b[0m                 \u001b[0msheet\u001b[0m \u001b[0;34m=\u001b[0m \u001b[0mself\u001b[0m\u001b[0;34m.\u001b[0m\u001b[0mget_sheet_by_index\u001b[0m\u001b[0;34m(\u001b[0m\u001b[0masheetname\u001b[0m\u001b[0;34m)\u001b[0m\u001b[0;34m\u001b[0m\u001b[0;34m\u001b[0m\u001b[0m\n",
      "\u001b[0;32m~/miniconda3/envs/QSAR_modeling/lib/python3.9/site-packages/pandas/io/excel/_openpyxl.py\u001b[0m in \u001b[0;36mget_sheet_by_name\u001b[0;34m(self, name)\u001b[0m\n\u001b[1;32m    540\u001b[0m \u001b[0;34m\u001b[0m\u001b[0m\n\u001b[1;32m    541\u001b[0m     \u001b[0;32mdef\u001b[0m \u001b[0mget_sheet_by_name\u001b[0m\u001b[0;34m(\u001b[0m\u001b[0mself\u001b[0m\u001b[0;34m,\u001b[0m \u001b[0mname\u001b[0m\u001b[0;34m:\u001b[0m \u001b[0mstr\u001b[0m\u001b[0;34m)\u001b[0m\u001b[0;34m:\u001b[0m\u001b[0;34m\u001b[0m\u001b[0;34m\u001b[0m\u001b[0m\n\u001b[0;32m--> 542\u001b[0;31m         \u001b[0mself\u001b[0m\u001b[0;34m.\u001b[0m\u001b[0mraise_if_bad_sheet_by_name\u001b[0m\u001b[0;34m(\u001b[0m\u001b[0mname\u001b[0m\u001b[0;34m)\u001b[0m\u001b[0;34m\u001b[0m\u001b[0;34m\u001b[0m\u001b[0m\n\u001b[0m\u001b[1;32m    543\u001b[0m         \u001b[0;32mreturn\u001b[0m \u001b[0mself\u001b[0m\u001b[0;34m.\u001b[0m\u001b[0mbook\u001b[0m\u001b[0;34m[\u001b[0m\u001b[0mname\u001b[0m\u001b[0;34m]\u001b[0m\u001b[0;34m\u001b[0m\u001b[0;34m\u001b[0m\u001b[0m\n\u001b[1;32m    544\u001b[0m \u001b[0;34m\u001b[0m\u001b[0m\n",
      "\u001b[0;32m~/miniconda3/envs/QSAR_modeling/lib/python3.9/site-packages/pandas/io/excel/_base.py\u001b[0m in \u001b[0;36mraise_if_bad_sheet_by_name\u001b[0;34m(self, name)\u001b[0m\n\u001b[1;32m    472\u001b[0m     \u001b[0;32mdef\u001b[0m \u001b[0mraise_if_bad_sheet_by_name\u001b[0m\u001b[0;34m(\u001b[0m\u001b[0mself\u001b[0m\u001b[0;34m,\u001b[0m \u001b[0mname\u001b[0m\u001b[0;34m:\u001b[0m \u001b[0mstr\u001b[0m\u001b[0;34m)\u001b[0m \u001b[0;34m->\u001b[0m \u001b[0;32mNone\u001b[0m\u001b[0;34m:\u001b[0m\u001b[0;34m\u001b[0m\u001b[0;34m\u001b[0m\u001b[0m\n\u001b[1;32m    473\u001b[0m         \u001b[0;32mif\u001b[0m \u001b[0mname\u001b[0m \u001b[0;32mnot\u001b[0m \u001b[0;32min\u001b[0m \u001b[0mself\u001b[0m\u001b[0;34m.\u001b[0m\u001b[0msheet_names\u001b[0m\u001b[0;34m:\u001b[0m\u001b[0;34m\u001b[0m\u001b[0;34m\u001b[0m\u001b[0m\n\u001b[0;32m--> 474\u001b[0;31m             \u001b[0;32mraise\u001b[0m \u001b[0mValueError\u001b[0m\u001b[0;34m(\u001b[0m\u001b[0;34mf\"Worksheet named '{name}' not found\"\u001b[0m\u001b[0;34m)\u001b[0m\u001b[0;34m\u001b[0m\u001b[0;34m\u001b[0m\u001b[0m\n\u001b[0m\u001b[1;32m    475\u001b[0m \u001b[0;34m\u001b[0m\u001b[0m\n\u001b[1;32m    476\u001b[0m     def parse(\n",
      "\u001b[0;31mValueError\u001b[0m: Worksheet named 'Sheet1' not found"
     ]
    }
   ],
   "source": [
    "p_pred_E2up_xlx = PR_DATA + \"pred_MC/ToxPrint_QSAR_E2up.xlsx\"\n",
    "l_term_to_screen_E2 = [\"\\\"estradiol\\\"\", \"\\\"steroidogenesis\\\"\", \"\\\"aromatase\\\"\", \"\\\"reproductive\\\"\", \"\\\"breast\\\"\", \"\\\"mammary\\\"\"]\n",
    "\n",
    "pr_litt_E2 = pathFolder.createFolder(PR_RESULTS + \"LittMC_E2/\")\n",
    "c_litt_E2 = pubmedSearch.pubmedSearch(p_pred_E2up_xlx, l_term_to_screen_E2, pr_litt_E2, email)\n",
    "c_litt_E2.do_search(l_term_to_screen_E2)\n"
   ]
  },
  {
   "cell_type": "markdown",
   "metadata": {},
   "source": [
    "### 5.3. MC predicted P4up"
   ]
  },
  {
   "cell_type": "code",
   "execution_count": null,
   "metadata": {},
   "outputs": [],
   "source": [
    "p_pred_P4up_xlx = PR_DATA + \"pred_MC/ToxPrint_QSAR_P4up.xlsx\"\n",
    "l_term_to_screen_P4 = [\"\\\"steroidogenesis\\\"\", \"\\\"progesterone\\\"\", \"\\\"aromatase\\\"\", \"\\\"reproductive\\\"\", \"\\\"breast\\\"\", \"\\\"mammary\\\"\"]\n",
    "\n",
    "pr_litt_P4 = pathFolder.createFolder(PR_RESULTS + \"LittMC_P4/\")\n",
    "c_litt_P4 = pubmedSearch.pubmedSearch(p_pred_P4up_xlx, l_term_to_screen_P4, pr_litt_P4, email)\n",
    "c_litt_P4.do_search(l_term_to_screen_P4)"
   ]
  }
 ],
 "metadata": {
  "interpreter": {
   "hash": "03bfb1f42ede460eccbde88fd81d2ca481857fd6dac08910b4e133e91c6ab786"
  },
  "kernelspec": {
   "display_name": "Python 3.9.6 64-bit ('QSAR_modeling': conda)",
   "language": "python",
   "name": "python3"
  },
  "language_info": {
   "codemirror_mode": {
    "name": "ipython",
    "version": 3
   },
   "file_extension": ".py",
   "mimetype": "text/x-python",
   "name": "python",
   "nbconvert_exporter": "python",
   "pygments_lexer": "ipython3",
   "version": "3.9.6"
  },
  "orig_nbformat": 4
 },
 "nbformat": 4,
 "nbformat_minor": 2
}

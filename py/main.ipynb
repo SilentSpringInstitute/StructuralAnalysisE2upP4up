{
 "cells": [
  {
   "cell_type": "markdown",
   "metadata": {},
   "source": [
    "# Notebook to create E2up or P4up QSAR models or apply them\n",
    "This notebook follow every steps used to create the QSARs E2up and P4up models and apply them on the Mammary carcinogens list.<br>\n",
    "It also included data analysis of each set of chemicals (Clustring, summary, ...) "
   ]
  },
  {
   "cell_type": "code",
   "execution_count": 2,
   "metadata": {},
   "outputs": [],
   "source": [
    "# load modulde for the analysis\n",
    "from os import path\n",
    "import MCcrossref_data\n",
    "import steroidogenesis_data\n",
    "import merge_MCcrossWithStereo\n",
    "import pathFolder\n",
    "import buildQSAR\n",
    "import applyQSAR\n",
    "import pubmedSearch"
   ]
  },
  {
   "cell_type": "markdown",
   "metadata": {},
   "source": [
    "## 1. Initialisation of the project\n",
    "### 1.1. Define folder paths and files used as inputs of the analysis  "
   ]
  },
  {
   "cell_type": "code",
   "execution_count": 3,
   "metadata": {},
   "outputs": [],
   "source": [
    "# Define folders #\n",
    "##################\n",
    "PR_ROOT = path.abspath(\"../../\") + \"/\"\n",
    "PR_RESULTS = pathFolder.createFolder(PR_ROOT + \"results/\")\n",
    "PR_DATA = PR_ROOT + \"data/\"\n",
    "\n",
    "# Define dataset #\n",
    "##################\n",
    "# cross ref excel including all dataset to process\n",
    "p_listChem = PR_DATA + \"cross_lists_for_analysis_090921.xlsx\" # excel created with ehp sup and Jenny list \n",
    "# exposure by chemicals\n",
    "p_exposure = PR_DATA + \"BCRelExposureSources_P65_051221.csv\"\n",
    "# list of hormone in SMILES that can be considered for the \n",
    "p_hormones = PR_DATA + \"hormones.csv\"\n",
    "# 270 chemicals as input"
   ]
  },
  {
   "cell_type": "markdown",
   "metadata": {},
   "source": [
    "## 1.2. Calibrate dataset variables"
   ]
  },
  {
   "cell_type": "code",
   "execution_count": 4,
   "metadata": {},
   "outputs": [],
   "source": [
    "# Dataset preparation value #\n",
    "#############################\n",
    "COR_VAL = 0.9 # Person corelation limit value for descriptor selection\n",
    "MAX_QUANTILE = 0 # % of the set of chemicals that are exactly the same values (0 to inactivate)\n",
    "\n",
    "# Define datasets #\n",
    "###################\n",
    "# cross ref excel including all dataset to process\n",
    "p_listChem = PR_DATA + \"cross_lists_for_analysis_090921.xlsx\" # excel created with ehp sup and Jenny list \n",
    "# exposure by chemicals\n",
    "p_exposure = PR_DATA + \"BCRelExposureSources_P65_051221.csv\"\n",
    "# list of hormone in SMILES that can be considered for the \n",
    "p_hormones = PR_DATA + \"hormones.csv\"\n",
    "# 270 chemicals as input"
   ]
  },
  {
   "cell_type": "markdown",
   "metadata": {},
   "source": [
    "## 2. Start analysis and loading data\n",
    "### 2.1. Load Steroidogenesis data from Karmaus2016\n",
    "Will create folder with drawn response curves"
   ]
  },
  {
   "cell_type": "code",
   "execution_count": null,
   "metadata": {},
   "outputs": [],
   "source": [
    "c_Stereo = steroidogenesis_data.Steroidogenesis_data(PR_DATA, PR_RESULTS)\n",
    "c_Stereo.main()"
   ]
  },
  {
   "cell_type": "markdown",
   "metadata": {},
   "source": [
    "### 2.2. Load and analysis chemicals dataset\n",
    "It will process chemicals lists compute descriptors"
   ]
  },
  {
   "cell_type": "code",
   "execution_count": null,
   "metadata": {},
   "outputs": [],
   "source": [
    "c_MCcrossref = MCcrossref_data.MCcrossref(p_listChem, p_exposure, p_hormones, COR_VAL, MAX_QUANTILE, PR_ROOT + \"comptox/\", PR_ROOT)\n",
    "c_MCcrossref.main()"
   ]
  },
  {
   "cell_type": "markdown",
   "metadata": {},
   "source": [
    "### 2.3. Mix information from chemicals lists with steroidogenesis pathways\n",
    "Will integrate analysis from chemicals lists and from assay results."
   ]
  },
  {
   "cell_type": "code",
   "execution_count": null,
   "metadata": {},
   "outputs": [],
   "source": [
    "pr_out_mix = pathFolder.createFolder(PR_RESULTS + \"crossRef_Stereo/\") # define output folder\n",
    "c_MCcrossref_stereo = merge_MCcrossWithStereo.merge_MCcrossWithStereo(c_MCcrossref, c_Stereo, pr_out_mix)\n",
    "c_MCcrossref_stereo.main()"
   ]
  },
  {
   "cell_type": "markdown",
   "metadata": {},
   "source": [
    "## 3. Develop QSAR models\n",
    "### 3.1. E2up - with no undersampling"
   ]
  },
  {
   "cell_type": "code",
   "execution_count": null,
   "metadata": {},
   "outputs": [],
   "source": [
    "name_QSAR = \"QSAR_E2_H295R_nosampling_nosingledosecheck_noborderline\"\n",
    "c_QSAR_E2up = buildQSAR.buildQSAR(name_QSAR, \"E2up\", \"H295R\", c_MCcrossref, PR_RESULTS, COR_VAL, MAX_QUANTILE)\n",
    "c_QSAR_E2up.buildDataset(c_Stereo, borderline=0)\n",
    "c_QSAR_E2up.buildDescSet([\"rdkit\", \"OPERA\", \"toxprint\"])\n",
    "c_QSAR_E2up.prepDesc()\n",
    "c_QSAR_E2up.computeSimMatrix()# similarity matrix for the AD\n",
    "c_QSAR_E2up.runQSARs()# no sampling add\n",
    "\n",
    "# best model selected manually\n",
    "n_E2best_run = 2"
   ]
  },
  {
   "cell_type": "markdown",
   "metadata": {},
   "source": [
    "### 3.2. E2up - undersampling with variable active rate"
   ]
  },
  {
   "cell_type": "code",
   "execution_count": null,
   "metadata": {},
   "outputs": [],
   "source": [
    "name_QSAR = \"QSAR_E2_H295R_variable-sampling_singledosecheck_noborderline\"\n",
    "c_QSAR_E2up = buildQSAR.buildQSAR(name_QSAR, \"E2up\", \"H295R\", c_MCcrossref, PR_RESULTS, COR_VAL, MAX_QUANTILE)\n",
    "c_QSAR_E2up.buildDataset(c_Stereo, borderline=0)\n",
    "c_QSAR_E2up.buildDescSet([\"rdkit\", \"OPERA\", \"toxprint\"])\n",
    "c_QSAR_E2up.prepDesc()\n",
    "c_QSAR_E2up.computeSimMatrix()# similarity matrix for the AD\n",
    "c_QSAR_E2up.runQSARs([0.10, 0.9])"
   ]
  },
  {
   "cell_type": "markdown",
   "metadata": {},
   "source": [
    "### 3.3. P4up - no undersampling"
   ]
  },
  {
   "cell_type": "code",
   "execution_count": null,
   "metadata": {},
   "outputs": [],
   "source": [
    "name_QSAR = \"QSAR_P4_H295R_nosampling_nosingledosecheck_noborderline\"\n",
    "c_QSAR_P4up = buildQSAR.buildQSAR(name_QSAR, \"P4up\", \"H295R\", c_MCcrossref, PR_RESULTS, COR_VAL, MAX_QUANTILE)\n",
    "c_QSAR_P4up.buildDataset(c_Stereo, borderline=0)\n",
    "c_QSAR_P4up.buildDescSet([\"rdkit\", \"OPERA\", \"toxprint\"])\n",
    "c_QSAR_P4up.prepDesc()\n",
    "c_QSAR_P4up.computeSimMatrix()# similarity matrix for the AD\n",
    "c_QSAR_P4up.runQSARs()# no sampling add\n",
    "\n",
    "### best model selected manually\n",
    "#n_P4best_run = 3"
   ]
  },
  {
   "cell_type": "markdown",
   "metadata": {},
   "source": [
    "### 3.4. P4up - undersampling with variable active rate"
   ]
  },
  {
   "cell_type": "code",
   "execution_count": null,
   "metadata": {},
   "outputs": [],
   "source": [
    "name_QSAR = \"QSAR_P4_H295R_variable-sampling_singledosecheck_noborderline\"\n",
    "c_QSAR_P4up = buildQSAR.buildQSAR(name_QSAR, \"P4up\", \"H295R\", c_MCcrossref, PR_RESULTS, COR_VAL, MAX_QUANTILE)\n",
    "c_QSAR_P4up.buildDataset(c_Stereo, borderline=0)\n",
    "c_QSAR_P4up.buildDescSet([\"rdkit\", \"OPERA\", \"toxprint\"])\n",
    "c_QSAR_P4up.prepDesc()\n",
    "c_QSAR_P4up.computeSimMatrix()# similarity matrix for the AD\n",
    "c_QSAR_P4up.runQSARs([0.10, 0.9])"
   ]
  },
  {
   "cell_type": "markdown",
   "metadata": {},
   "source": [
    "## 4. Apply QSAR models to MC list\n",
    "### 4.1. Apply QSAR E2up"
   ]
  },
  {
   "cell_type": "code",
   "execution_count": null,
   "metadata": {},
   "outputs": [],
   "source": [
    "pr_model_E2up = PR_RESULTS + \"QSAR_E2_H295R_nosampling_nosingledosecheck_noborderline/rdkit-OPERA-toxprint_0.9-0/classQSAR/\" + str(n_E2best_run) + \"/\"\n",
    "pr_E2MC_pred = pathFolder.createFolder(PR_RESULTS + \"predMC_E2/\")\n",
    "c_applyQSARE2 = applyQSAR.applyQSAR(c_MCcrossref, pr_model_E2up, pr_E2MC_pred)\n",
    "c_applyQSARE2.loadDataFromCrossRef(\"MC\", [\"E2up\", \"H295R\"], 1)\n",
    "c_applyQSARE2.buildDescSet([\"rdkit\", \"OPERA\", \"toxprint\"])\n",
    "c_applyQSARE2.applyQSARModels()\n",
    "c_applyQSARE2.computeAD()\n",
    "c_applyQSARE2.applyToxPrintSignifcant(PR_RESULTS)\n",
    "c_applyQSARE2.mergePredToxPrintQSAR(AD_cutoff = 0.75, nb_significant_toxPrint = 3, QSAR_prob= 0.5)\n",
    "c_applyQSARE2.extractStructure()"
   ]
  },
  {
   "cell_type": "markdown",
   "metadata": {},
   "source": [
    "### 4.2. Apply QSAR P4up"
   ]
  },
  {
   "cell_type": "code",
   "execution_count": null,
   "metadata": {},
   "outputs": [],
   "source": [
    "pr_model_P4up = PR_RESULTS + \"QSAR_E2_H295R_nosampling_nosingledosecheck_noborderline/rdkit-OPERA-toxprint_0.9-0/classQSAR/\" + str(n_P4best_run) + \"/\"\n",
    "pr_P4MC_pred = pathFolder.createFolder(PR_RESULTS + \"predMC_P4/\")\n",
    "c_applyQSARP4 = applyQSAR.applyQSAR(c_MCcrossref, pr_model_P4up, pr_P4MC_pred)\n",
    "c_applyQSARP4.loadDataFromCrossRef(\"MC\", [\"P4up\", \"H295R\"], 1)\n",
    "c_applyQSARP4.buildDescSet([\"rdkit\", \"OPERA\", \"toxprint\"])\n",
    "c_applyQSARP4.applyQSARModels()\n",
    "c_applyQSARP4.computeAD()\n",
    "c_applyQSARP4.applyToxPrintSignifcant(PR_RESULTS)\n",
    "c_applyQSARP4.mergePredToxPrintQSAR(AD_cutoff = 0.75, nb_significant_toxPrint = 3, QSAR_prob= 0.5)\n",
    "c_applyQSARP4.extractStructure()"
   ]
  },
  {
   "cell_type": "markdown",
   "metadata": {},
   "source": [
    "## 5. Litterature search to find evidences of steroidogenesis for predicted chemicals E2up or P4up\n",
    "### 5.1. For E2up"
   ]
  },
  {
   "cell_type": "code",
   "execution_count": null,
   "metadata": {},
   "outputs": [],
   "source": [
    "email = \"borrel@silentspring.org\""
   ]
  },
  {
   "cell_type": "code",
   "execution_count": null,
   "metadata": {},
   "outputs": [],
   "source": [
    "p_pred_E2up_xlx = PR_DATA + \"pred_MC/ToxPrint_QSAR_E2up.xlsx\"\n",
    "l_term_to_screen_E2 = [\"\\\"estradiol\\\"\", \"\\\"steroidogenesis\\\"\", \"\\\"aromatase\\\"\", \"\\\"reproductive\\\"\", \"\\\"breast\\\"\", \"\\\"mammary\\\"\"]\n",
    "\n",
    "pr_litt_E2 = pathFolder.createFolder(PR_RESULTS + \"LittMC_E2/\")\n",
    "c_litt_E2 = pubmedSearch.pubmedSearch(p_pred_E2up_xlx, l_term_to_screen_E2, pr_litt_E2, email)\n",
    "c_litt_E2.do_search(l_term_to_screen_E2)\n"
   ]
  },
  {
   "cell_type": "markdown",
   "metadata": {},
   "source": [
    "### 5.1. For P4up"
   ]
  },
  {
   "cell_type": "code",
   "execution_count": null,
   "metadata": {},
   "outputs": [],
   "source": [
    "p_pred_P4up_xlx = PR_DATA + \"pred_MC/ToxPrint_QSAR_P4up.xlsx\"\n",
    "l_term_to_screen_P4 = [\"\\\"steroidogenesis\\\"\", \"\\\"progesterone\\\"\", \"\\\"aromatase\\\"\", \"\\\"reproductive\\\"\", \"\\\"breast\\\"\", \"\\\"mammary\\\"\"]\n",
    "\n",
    "pr_litt_P4 = pathFolder.createFolder(PR_RESULTS + \"LittMC_P4/\")\n",
    "c_litt_P4 = pubmedSearch.pubmedSearch(p_pred_P4up_xlx, l_term_to_screen_P4, pr_litt_P4, email)\n",
    "c_litt_P4.do_search(l_term_to_screen_P4)"
   ]
  }
 ],
 "metadata": {
  "interpreter": {
   "hash": "03bfb1f42ede460eccbde88fd81d2ca481857fd6dac08910b4e133e91c6ab786"
  },
  "kernelspec": {
   "display_name": "Python 3.9.6 64-bit ('QSAR_modeling': conda)",
   "language": "python",
   "name": "python3"
  },
  "language_info": {
   "codemirror_mode": {
    "name": "ipython",
    "version": 3
   },
   "file_extension": ".py",
   "mimetype": "text/x-python",
   "name": "python",
   "nbconvert_exporter": "python",
   "pygments_lexer": "ipython3",
   "version": "3.9.6"
  },
  "orig_nbformat": 4
 },
 "nbformat": 4,
 "nbformat_minor": 2
}
